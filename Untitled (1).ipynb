{
 "cells": [
  {
   "cell_type": "code",
   "execution_count": 1,
   "id": "3589ae7a",
   "metadata": {},
   "outputs": [
    {
     "name": "stdout",
     "output_type": "stream",
     "text": [
      "String after case conversion : hELLO cODE fAMILY\n"
     ]
    }
   ],
   "source": [
    "str1 = \"Hello Code Family\";\n",
    "newStr = \"\";\n",
    "\n",
    "for i in range(0, len(str1)):\n",
    "    # Checks for lower case character\n",
    "    if str1[i].islower():\n",
    "        # Convert it into upper case using upper () function\n",
    "        newStr += str1[i].upper();\n",
    "        # Checks for upper case character\n",
    "    elif str1[i].isupper():\n",
    "        # Convert it into lower case using lower () function\n",
    "        newStr += str1[i].lower();\n",
    "\n",
    "    else:\n",
    "        newStr += str1[i];\n",
    "print(\"String after case conversion : \" + newStr);"
   ]
  },
  {
   "cell_type": "code",
   "execution_count": null,
   "id": "cbe7905d",
   "metadata": {},
   "outputs": [],
   "source": []
  }
 ],
 "metadata": {
  "kernelspec": {
   "display_name": "Python 3",
   "language": "python",
   "name": "python3"
  },
  "language_info": {
   "codemirror_mode": {
    "name": "ipython",
    "version": 3
   },
   "file_extension": ".py",
   "mimetype": "text/x-python",
   "name": "python",
   "nbconvert_exporter": "python",
   "pygments_lexer": "ipython3",
   "version": "3.8.8"
  }
 },
 "nbformat": 4,
 "nbformat_minor": 5
}
